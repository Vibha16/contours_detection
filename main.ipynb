{
 "cells": [
  {
   "cell_type": "code",
   "execution_count": 1,
   "id": "4b729a57",
   "metadata": {},
   "outputs": [],
   "source": [
    "\n",
    "import cv2 \n",
    "import numpy as np\n",
    "from rembg import remove"
   ]
  },
  {
   "cell_type": "code",
   "execution_count": 29,
   "id": "7f8e7a6a",
   "metadata": {},
   "outputs": [],
   "source": [
    "\n",
    " #image_path\n",
    "img_path=\"4.jpg\"\n",
    "\n",
    "#read image\n",
    "img_raw = cv2.imread(img_path)\n",
    " \n",
    "width = 1000\n",
    "height = 800\n",
    "dim = (width, height)\n",
    " \n",
    "# resizing the image\n",
    "resized = cv2.resize(img_raw, dim, interpolation = cv2.INTER_AREA)\n",
    "#cv2.imshow(\"re\", resized)\n",
    " #selecting ROI function\n",
    "roi = cv2.selectROI('selected_area',resized)\n",
    "\n",
    " #print rectangle points of selected roi\n",
    "# print(roi)\n",
    "\n",
    "#Crop selected roi from raw image\n",
    "roi_cropped = resized[int(roi[1]):int(roi[1]+roi[3]), int(roi[0]):int(roi[0]+roi[2])]\n",
    "\n",
    "#show cropped image\n",
    "# cv2.imshow(\"ROI\", roi_cropped)\n",
    "cv2.imwrite(\"crop.jpg\",roi_cropped)\n",
    "\n",
    "\n",
    "output_path = 'output.png'\n",
    "\n",
    "#remove bg using rembg\n",
    "input = roi_cropped\n",
    "output = remove(input)\n",
    "# cv2.imshow(\"bg\",output)\n",
    "#convert the image to grayscale\n",
    "gray = cv2.cvtColor(output, cv2.COLOR_BGR2GRAY)\n",
    "\n",
    "#find the contours in the image\n",
    "contours, heirarchy = cv2.findContours(gray, cv2.RETR_TREE, cv2.CHAIN_APPROX_SIMPLE)\n",
    "#draw the obtained contour lines(or the set of coordinates forming a line) on the original image\n",
    "cv2.drawContours(roi_cropped, contours, -1, (0,255,0), 3)\n",
    "#show the image\n",
    "# cv2.namedWindow('Contours',cv2.WINDOW_NORMAL)\n",
    "cv2.destroyAllWindows()\n",
    "cv2.imshow('Contours', resized)\n",
    "\n",
    "#hold window\n",
    "if cv2.waitKey(0)==ord(\"q\"):\n",
    "    cv2.destroyAllWindows()\n"
   ]
  },
  {
   "cell_type": "code",
   "execution_count": null,
   "id": "a940e23d",
   "metadata": {},
   "outputs": [],
   "source": []
  }
 ],
 "metadata": {
  "kernelspec": {
   "display_name": "Python 3 (ipykernel)",
   "language": "python",
   "name": "python3"
  },
  "language_info": {
   "codemirror_mode": {
    "name": "ipython",
    "version": 3
   },
   "file_extension": ".py",
   "mimetype": "text/x-python",
   "name": "python",
   "nbconvert_exporter": "python",
   "pygments_lexer": "ipython3",
   "version": "3.10.7"
  }
 },
 "nbformat": 4,
 "nbformat_minor": 5
}
